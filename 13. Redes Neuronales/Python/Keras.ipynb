{
  "nbformat": 4,
  "nbformat_minor": 0,
  "metadata": {
    "kernelspec": {
      "display_name": "Python 3",
      "language": "python",
      "name": "python3"
    },
    "language_info": {
      "codemirror_mode": {
        "name": "ipython",
        "version": 3
      },
      "file_extension": ".py",
      "mimetype": "text/x-python",
      "name": "python",
      "nbconvert_exporter": "python",
      "pygments_lexer": "ipython3",
      "version": "3.6.7"
    },
    "colab": {
      "name": "Keras.ipynb",
      "provenance": []
    }
  },
  "cells": [
    {
      "cell_type": "markdown",
      "metadata": {
        "id": "HRT4LwDK3bu1"
      },
      "source": [
        "# Keras "
      ]
    },
    {
      "cell_type": "code",
      "metadata": {
        "id": "n43096g33bu1"
      },
      "source": [
        "# Importando librarías\n",
        "import keras\n",
        "import matplotlib.pyplot as plt\n",
        "import pandas as pd\n",
        "import numpy as np"
      ],
      "execution_count": 1,
      "outputs": []
    },
    {
      "cell_type": "markdown",
      "metadata": {
        "id": "B9wstEKj3bu5"
      },
      "source": [
        "## Regresión lineal y=mx+b+ruido"
      ]
    },
    {
      "cell_type": "code",
      "metadata": {
        "id": "poGsQuv_3bu5"
      },
      "source": [
        "m = 2\n",
        "b = 3\n",
        "x = np.linspace(0,50,100) # va de 0 a 50 los numeros y queremos 100 observaciones\n",
        "\n",
        "# vamos a fijar una semilla en 101, un valor aleatorio para asegurarnos de que obtengas los mismos resultados que yo!\n",
        "np.random.seed(101) \n",
        "ruido = np.random.normal(loc=0.0,scale=4.0,size=len(x)) # loc: media, scale: desviacion tipica"
      ],
      "execution_count": 2,
      "outputs": []
    },
    {
      "cell_type": "code",
      "metadata": {
        "id": "MuMla58t3bu8"
      },
      "source": [
        "y = m*x + b + ruido"
      ],
      "execution_count": 3,
      "outputs": []
    },
    {
      "cell_type": "code",
      "metadata": {
        "id": "toVNklzd3bu-",
        "colab": {
          "base_uri": "https://localhost:8080/",
          "height": 265
        },
        "outputId": "97cafb14-1a50-4a4c-c99f-663efbf7428e"
      },
      "source": [
        "plt.plot(x,y,'*');"
      ],
      "execution_count": 4,
      "outputs": [
        {
          "output_type": "display_data",
          "data": {
            "image/png": "[encoded data removed]",
            "text/plain": [
              "<Figure size 432x288 with 1 Axes>"
            ]
          },
          "metadata": {
            "needs_background": "light"
          }
        }
      ]
    },
    {
      "cell_type": "markdown",
      "metadata": {
        "id": "kPvzkgi93bvC"
      },
      "source": [
        "## Creando una Red Neuronal para una Regresión"
      ]
    },
    {
      "cell_type": "code",
      "metadata": {
        "id": "l4qsI7Uu3bvD"
      },
      "source": [
        "from keras.models import Sequential\n",
        "from keras.layers import Dense"
      ],
      "execution_count": 5,
      "outputs": []
    },
    {
      "cell_type": "code",
      "metadata": {
        "id": "QtvnVIMx3bvF"
      },
      "source": [
        "model = Sequential()\n",
        "# 4 Neuronas, esperamos solo 1 input \n",
        "model.add(Dense(4, input_dim=1, activation='relu'))\n",
        "# 4 Neuronas\n",
        "model.add(Dense(4, activation='relu'))\n",
        "# Solo 1 neurona porque solo tenemos 1 output que es Y\n",
        "model.add(Dense(1, activation='linear'))\n",
        "# Compilamos todas las capas\n",
        "model.compile(loss='mse', optimizer='adam')"
      ],
      "execution_count": 6,
      "outputs": []
    },
    {
      "cell_type": "code",
      "metadata": {
        "id": "esLa-nsq3bvI",
        "colab": {
          "base_uri": "https://localhost:8080/"
        },
        "outputId": "29698e5f-148e-4d46-be03-d0d601eea54b"
      },
      "source": [
        "model.summary()"
      ],
      "execution_count": 7,
      "outputs": [
        {
          "output_type": "stream",
          "name": "stdout",
          "text": [
            "Model: \"sequential\"\n",
            "_________________________________________________________________\n",
            " Layer (type)                Output Shape              Param #   \n",
            "=================================================================\n",
            " dense (Dense)               (None, 4)                 8         \n",
            "                                                                 \n",
            " dense_1 (Dense)             (None, 4)                 20        \n",
            "                                                                 \n",
            " dense_2 (Dense)             (None, 1)                 5         \n",
            "                                                                 \n",
            "=================================================================\n",
            "Total params: 33\n",
            "Trainable params: 33\n",
            "Non-trainable params: 0\n",
            "_________________________________________________________________\n"
          ]
        }
      ]
    },
    {
      "cell_type": "markdown",
      "metadata": {
        "id": "dqIddxcm3bvK"
      },
      "source": [
        "## Entrenamiento de la red\n",
        "\n",
        "** NOTA: EN ESTE EJEMPLO VAMOS A SALTARNOS EL PASO DE DIVIDIR LOS DATOS EN ENTRENAMIENTO Y PRUEBA!!!! **"
      ]
    },
    {
      "cell_type": "code",
      "metadata": {
        "id": "PgBp7fg-3bvL",
        "colab": {
          "base_uri": "https://localhost:8080/"
        },
        "outputId": "9f52797a-b614-4fc8-e021-3c4fb09979e6"
      },
      "source": [
        "model.fit(x, y, epochs=200, verbose=1)"
      ],
      "execution_count": 8,
      "outputs": [
        {
          "output_type": "stream",
          "name": "stdout",
          "text": [
            "Epoch 1/200\n",
            "4/4 [==============================] - 1s 3ms/step - loss: 3536.0181\n",
            "Epoch 2/200\n",
            "4/4 [==============================] - 0s 4ms/step - loss: 3520.2100\n",
            "Epoch 3/200\n",
            "4/4 [==============================] - 0s 4ms/step - loss: 3504.6450\n",
            "Epoch 4/200\n",
            "4/4 [==============================] - 0s 3ms/step - loss: 3487.9221\n",
            "Epoch 5/200\n",
            "4/4 [==============================] - 0s 4ms/step - loss: 3470.9834\n",
            "Epoch 6/200\n",
            "4/4 [==============================] - 0s 4ms/step - loss: 3453.2791\n",
            "Epoch 7/200\n",
            "4/4 [==============================] - 0s 4ms/step - loss: 3434.2747\n",
            "Epoch 8/200\n",
            "4/4 [==============================] - 0s 3ms/step - loss: 3414.8367\n",
            "Epoch 9/200\n",
            "4/4 [==============================] - 0s 3ms/step - loss: 3394.8718\n",
            "Epoch 10/200\n",
            "4/4 [==============================] - 0s 3ms/step - loss: 3373.7100\n",
            "Epoch 11/200\n",
            "4/4 [==============================] - 0s 2ms/step - loss: 3351.8027\n",
            "Epoch 12/200\n",
            "4/4 [==============================] - 0s 4ms/step - loss: 3329.3752\n",
            "Epoch 13/200\n",
            "4/4 [==============================] - 0s 3ms/step - loss: 3307.2935\n",
            "Epoch 14/200\n",
            "4/4 [==============================] - 0s 3ms/step - loss: 3284.4094\n",
            "Epoch 15/200\n",
            "4/4 [==============================] - 0s 3ms/step - loss: 3259.1843\n",
            "Epoch 16/200\n",
            "4/4 [==============================] - 0s 4ms/step - loss: 3233.5332\n",
            "Epoch 17/200\n",
            "4/4 [==============================] - 0s 4ms/step - loss: 3209.1128\n",
            "Epoch 18/200\n",
            "4/4 [==============================] - 0s 3ms/step - loss: 3183.9275\n",
            "Epoch 19/200\n",
            "4/4 [==============================] - 0s 3ms/step - loss: 3156.8936\n",
            "Epoch 20/200\n",
            "4/4 [==============================] - 0s 3ms/step - loss: 3128.3818\n",
            "Epoch 21/200\n",
            "4/4 [==============================] - 0s 4ms/step - loss: 3100.0054\n",
            "Epoch 22/200\n",
            "4/4 [==============================] - 0s 3ms/step - loss: 3068.5718\n",
            "Epoch 23/200\n",
            "4/4 [==============================] - 0s 3ms/step - loss: 3037.2532\n",
            "Epoch 24/200\n",
            "4/4 [==============================] - 0s 5ms/step - loss: 3004.7344\n",
            "Epoch 25/200\n",
            "4/4 [==============================] - 0s 2ms/step - loss: 2971.5972\n",
            "Epoch 26/200\n",
            "4/4 [==============================] - 0s 2ms/step - loss: 2939.1104\n",
            "Epoch 27/200\n",
            "4/4 [==============================] - 0s 3ms/step - loss: 2902.1243\n",
            "Epoch 28/200\n",
            "4/4 [==============================] - 0s 3ms/step - loss: 2868.5134\n",
            "Epoch 29/200\n",
            "4/4 [==============================] - 0s 4ms/step - loss: 2831.8850\n",
            "Epoch 30/200\n",
            "4/4 [==============================] - 0s 2ms/step - loss: 2793.8987\n",
            "Epoch 31/200\n",
            "4/4 [==============================] - 0s 3ms/step - loss: 2756.4634\n",
            "Epoch 32/200\n",
            "4/4 [==============================] - 0s 4ms/step - loss: 2717.2656\n",
            "Epoch 33/200\n",
            "4/4 [==============================] - 0s 3ms/step - loss: 2675.8765\n",
            "Epoch 34/200\n",
            "4/4 [==============================] - 0s 3ms/step - loss: 2635.2285\n",
            "Epoch 35/200\n",
            "4/4 [==============================] - 0s 3ms/step - loss: 2592.9673\n",
            "Epoch 36/200\n",
            "4/4 [==============================] - 0s 3ms/step - loss: 2551.6826\n",
            "Epoch 37/200\n",
            "4/4 [==============================] - 0s 3ms/step - loss: 2512.1694\n",
            "Epoch 38/200\n",
            "4/4 [==============================] - 0s 2ms/step - loss: 2472.3396\n",
            "Epoch 39/200\n",
            "4/4 [==============================] - 0s 3ms/step - loss: 2432.9407\n",
            "Epoch 40/200\n",
            "4/4 [==============================] - 0s 3ms/step - loss: 2394.5356\n",
            "Epoch 41/200\n",
            "4/4 [==============================] - 0s 5ms/step - loss: 2353.3191\n",
            "Epoch 42/200\n",
            "4/4 [==============================] - 0s 3ms/step - loss: 2314.4509\n",
            "Epoch 43/200\n",
            "4/4 [==============================] - 0s 3ms/step - loss: 2271.8025\n",
            "Epoch 44/200\n",
            "4/4 [==============================] - 0s 3ms/step - loss: 2230.9082\n",
            "Epoch 45/200\n",
            "4/4 [==============================] - 0s 3ms/step - loss: 2187.0791\n",
            "Epoch 46/200\n",
            "4/4 [==============================] - 0s 3ms/step - loss: 2142.0085\n",
            "Epoch 47/200\n",
            "4/4 [==============================] - 0s 3ms/step - loss: 2096.4663\n",
            "Epoch 48/200\n",
            "4/4 [==============================] - 0s 3ms/step - loss: 2049.7568\n",
            "Epoch 49/200\n",
            "4/4 [==============================] - 0s 3ms/step - loss: 2005.2120\n",
            "Epoch 50/200\n",
            "4/4 [==============================] - 0s 3ms/step - loss: 1959.4066\n",
            "Epoch 51/200\n",
            "4/4 [==============================] - 0s 4ms/step - loss: 1912.3813\n",
            "Epoch 52/200\n",
            "4/4 [==============================] - 0s 4ms/step - loss: 1864.2990\n",
            "Epoch 53/200\n",
            "4/4 [==============================] - 0s 3ms/step - loss: 1816.3743\n",
            "Epoch 54/200\n",
            "4/4 [==============================] - 0s 3ms/step - loss: 1768.4877\n",
            "Epoch 55/200\n",
            "4/4 [==============================] - 0s 3ms/step - loss: 1720.5320\n",
            "Epoch 56/200\n",
            "4/4 [==============================] - 0s 3ms/step - loss: 1674.1959\n",
            "Epoch 57/200\n",
            "4/4 [==============================] - 0s 3ms/step - loss: 1628.1222\n",
            "Epoch 58/200\n",
            "4/4 [==============================] - 0s 4ms/step - loss: 1582.5175\n",
            "Epoch 59/200\n",
            "4/4 [==============================] - 0s 2ms/step - loss: 1537.1329\n",
            "Epoch 60/200\n",
            "4/4 [==============================] - 0s 2ms/step - loss: 1492.2909\n",
            "Epoch 61/200\n",
            "4/4 [==============================] - 0s 4ms/step - loss: 1448.9741\n",
            "Epoch 62/200\n",
            "4/4 [==============================] - 0s 3ms/step - loss: 1405.0636\n",
            "Epoch 63/200\n",
            "4/4 [==============================] - 0s 4ms/step - loss: 1360.0819\n",
            "Epoch 64/200\n",
            "4/4 [==============================] - 0s 4ms/step - loss: 1312.3829\n",
            "Epoch 65/200\n",
            "4/4 [==============================] - 0s 3ms/step - loss: 1266.8817\n",
            "Epoch 66/200\n",
            "4/4 [==============================] - 0s 3ms/step - loss: 1221.4415\n",
            "Epoch 67/200\n",
            "4/4 [==============================] - 0s 3ms/step - loss: 1177.5309\n",
            "Epoch 68/200\n",
            "4/4 [==============================] - 0s 4ms/step - loss: 1129.7201\n",
            "Epoch 69/200\n",
            "4/4 [==============================] - 0s 4ms/step - loss: 1083.2085\n",
            "Epoch 70/200\n",
            "4/4 [==============================] - 0s 3ms/step - loss: 1033.8699\n",
            "Epoch 71/200\n",
            "4/4 [==============================] - 0s 4ms/step - loss: 988.5308\n",
            "Epoch 72/200\n",
            "4/4 [==============================] - 0s 4ms/step - loss: 939.2086\n",
            "Epoch 73/200\n",
            "4/4 [==============================] - 0s 3ms/step - loss: 895.5018\n",
            "Epoch 74/200\n",
            "4/4 [==============================] - 0s 4ms/step - loss: 851.0714\n",
            "Epoch 75/200\n",
            "4/4 [==============================] - 0s 3ms/step - loss: 807.0133\n",
            "Epoch 76/200\n",
            "4/4 [==============================] - 0s 3ms/step - loss: 765.2690\n",
            "Epoch 77/200\n",
            "4/4 [==============================] - 0s 3ms/step - loss: 726.3504\n",
            "Epoch 78/200\n",
            "4/4 [==============================] - 0s 3ms/step - loss: 687.8538\n",
            "Epoch 79/200\n",
            "4/4 [==============================] - 0s 3ms/step - loss: 648.9968\n",
            "Epoch 80/200\n",
            "4/4 [==============================] - 0s 3ms/step - loss: 613.6730\n",
            "Epoch 81/200\n",
            "4/4 [==============================] - 0s 3ms/step - loss: 576.5889\n",
            "Epoch 82/200\n",
            "4/4 [==============================] - 0s 3ms/step - loss: 538.1826\n",
            "Epoch 83/200\n",
            "4/4 [==============================] - 0s 3ms/step - loss: 505.2523\n",
            "Epoch 84/200\n",
            "4/4 [==============================] - 0s 3ms/step - loss: 472.6805\n",
            "Epoch 85/200\n",
            "4/4 [==============================] - 0s 3ms/step - loss: 443.0960\n",
            "Epoch 86/200\n",
            "4/4 [==============================] - 0s 3ms/step - loss: 413.9326\n",
            "Epoch 87/200\n",
            "4/4 [==============================] - 0s 4ms/step - loss: 387.6801\n",
            "Epoch 88/200\n",
            "4/4 [==============================] - 0s 3ms/step - loss: 361.6662\n",
            "Epoch 89/200\n",
            "4/4 [==============================] - 0s 4ms/step - loss: 338.5953\n",
            "Epoch 90/200\n",
            "4/4 [==============================] - 0s 3ms/step - loss: 315.0330\n",
            "Epoch 91/200\n",
            "4/4 [==============================] - 0s 3ms/step - loss: 291.9519\n",
            "Epoch 92/200\n",
            "4/4 [==============================] - 0s 3ms/step - loss: 270.8298\n",
            "Epoch 93/200\n",
            "4/4 [==============================] - 0s 4ms/step - loss: 251.7130\n",
            "Epoch 94/200\n",
            "4/4 [==============================] - 0s 4ms/step - loss: 232.5703\n",
            "Epoch 95/200\n",
            "4/4 [==============================] - 0s 3ms/step - loss: 214.6589\n",
            "Epoch 96/200\n",
            "4/4 [==============================] - 0s 3ms/step - loss: 199.0651\n",
            "Epoch 97/200\n",
            "4/4 [==============================] - 0s 3ms/step - loss: 183.2778\n",
            "Epoch 98/200\n",
            "4/4 [==============================] - 0s 3ms/step - loss: 169.0798\n",
            "Epoch 99/200\n",
            "4/4 [==============================] - 0s 3ms/step - loss: 155.8219\n",
            "Epoch 100/200\n",
            "4/4 [==============================] - 0s 3ms/step - loss: 143.3781\n",
            "Epoch 101/200\n",
            "4/4 [==============================] - 0s 3ms/step - loss: 132.0276\n",
            "Epoch 102/200\n",
            "4/4 [==============================] - 0s 3ms/step - loss: 121.7646\n",
            "Epoch 103/200\n",
            "4/4 [==============================] - 0s 3ms/step - loss: 112.3886\n",
            "Epoch 104/200\n",
            "4/4 [==============================] - 0s 3ms/step - loss: 103.9814\n",
            "Epoch 105/200\n",
            "4/4 [==============================] - 0s 3ms/step - loss: 96.2326\n",
            "Epoch 106/200\n",
            "4/4 [==============================] - 0s 4ms/step - loss: 88.6242\n",
            "Epoch 107/200\n",
            "4/4 [==============================] - 0s 4ms/step - loss: 81.5816\n",
            "Epoch 108/200\n",
            "4/4 [==============================] - 0s 3ms/step - loss: 75.0337\n",
            "Epoch 109/200\n",
            "4/4 [==============================] - 0s 3ms/step - loss: 69.0055\n",
            "Epoch 110/200\n",
            "4/4 [==============================] - 0s 3ms/step - loss: 63.6541\n",
            "Epoch 111/200\n",
            "4/4 [==============================] - 0s 4ms/step - loss: 58.4568\n",
            "Epoch 112/200\n",
            "4/4 [==============================] - 0s 3ms/step - loss: 54.4330\n",
            "Epoch 113/200\n",
            "4/4 [==============================] - 0s 4ms/step - loss: 50.5218\n",
            "Epoch 114/200\n",
            "4/4 [==============================] - 0s 4ms/step - loss: 46.8630\n",
            "Epoch 115/200\n",
            "4/4 [==============================] - 0s 5ms/step - loss: 43.2636\n",
            "Epoch 116/200\n",
            "4/4 [==============================] - 0s 4ms/step - loss: 40.2831\n",
            "Epoch 117/200\n",
            "4/4 [==============================] - 0s 4ms/step - loss: 37.6105\n",
            "Epoch 118/200\n",
            "4/4 [==============================] - 0s 4ms/step - loss: 34.9927\n",
            "Epoch 119/200\n",
            "4/4 [==============================] - 0s 4ms/step - loss: 32.5830\n",
            "Epoch 120/200\n",
            "4/4 [==============================] - 0s 4ms/step - loss: 30.5906\n",
            "Epoch 121/200\n",
            "4/4 [==============================] - 0s 3ms/step - loss: 28.6954\n",
            "Epoch 122/200\n",
            "4/4 [==============================] - 0s 3ms/step - loss: 27.1778\n",
            "Epoch 123/200\n",
            "4/4 [==============================] - 0s 4ms/step - loss: 25.9412\n",
            "Epoch 124/200\n",
            "4/4 [==============================] - 0s 4ms/step - loss: 24.7656\n",
            "Epoch 125/200\n",
            "4/4 [==============================] - 0s 5ms/step - loss: 23.8366\n",
            "Epoch 126/200\n",
            "4/4 [==============================] - 0s 3ms/step - loss: 22.9966\n",
            "Epoch 127/200\n",
            "4/4 [==============================] - 0s 5ms/step - loss: 22.2354\n",
            "Epoch 128/200\n",
            "4/4 [==============================] - 0s 4ms/step - loss: 21.5863\n",
            "Epoch 129/200\n",
            "4/4 [==============================] - 0s 3ms/step - loss: 21.0419\n",
            "Epoch 130/200\n",
            "4/4 [==============================] - 0s 3ms/step - loss: 20.5631\n",
            "Epoch 131/200\n",
            "4/4 [==============================] - 0s 3ms/step - loss: 20.1206\n",
            "Epoch 132/200\n",
            "4/4 [==============================] - 0s 4ms/step - loss: 19.7860\n",
            "Epoch 133/200\n",
            "4/4 [==============================] - 0s 3ms/step - loss: 19.5165\n",
            "Epoch 134/200\n",
            "4/4 [==============================] - 0s 4ms/step - loss: 19.2744\n",
            "Epoch 135/200\n",
            "4/4 [==============================] - 0s 4ms/step - loss: 19.0693\n",
            "Epoch 136/200\n",
            "4/4 [==============================] - 0s 3ms/step - loss: 18.8866\n",
            "Epoch 137/200\n",
            "4/4 [==============================] - 0s 2ms/step - loss: 18.7064\n",
            "Epoch 138/200\n",
            "4/4 [==============================] - 0s 2ms/step - loss: 18.6165\n",
            "Epoch 139/200\n",
            "4/4 [==============================] - 0s 4ms/step - loss: 18.4788\n",
            "Epoch 140/200\n",
            "4/4 [==============================] - 0s 3ms/step - loss: 18.3836\n",
            "Epoch 141/200\n",
            "4/4 [==============================] - 0s 4ms/step - loss: 18.2972\n",
            "Epoch 142/200\n",
            "4/4 [==============================] - 0s 3ms/step - loss: 18.2338\n",
            "Epoch 143/200\n",
            "4/4 [==============================] - 0s 3ms/step - loss: 18.1370\n",
            "Epoch 144/200\n",
            "4/4 [==============================] - 0s 4ms/step - loss: 18.0854\n",
            "Epoch 145/200\n",
            "4/4 [==============================] - 0s 3ms/step - loss: 18.0110\n",
            "Epoch 146/200\n",
            "4/4 [==============================] - 0s 4ms/step - loss: 17.9328\n",
            "Epoch 147/200\n",
            "4/4 [==============================] - 0s 3ms/step - loss: 17.8643\n",
            "Epoch 148/200\n",
            "4/4 [==============================] - 0s 3ms/step - loss: 17.8348\n",
            "Epoch 149/200\n",
            "4/4 [==============================] - 0s 3ms/step - loss: 17.7883\n",
            "Epoch 150/200\n",
            "4/4 [==============================] - 0s 3ms/step - loss: 17.7485\n",
            "Epoch 151/200\n",
            "4/4 [==============================] - 0s 3ms/step - loss: 17.7387\n",
            "Epoch 152/200\n",
            "4/4 [==============================] - 0s 3ms/step - loss: 17.7217\n",
            "Epoch 153/200\n",
            "4/4 [==============================] - 0s 3ms/step - loss: 17.6989\n",
            "Epoch 154/200\n",
            "4/4 [==============================] - 0s 3ms/step - loss: 17.6926\n",
            "Epoch 155/200\n",
            "4/4 [==============================] - 0s 3ms/step - loss: 17.6872\n",
            "Epoch 156/200\n",
            "4/4 [==============================] - 0s 3ms/step - loss: 17.6748\n",
            "Epoch 157/200\n",
            "4/4 [==============================] - 0s 3ms/step - loss: 17.6712\n",
            "Epoch 158/200\n",
            "4/4 [==============================] - 0s 3ms/step - loss: 17.6643\n",
            "Epoch 159/200\n",
            "4/4 [==============================] - 0s 3ms/step - loss: 17.6667\n",
            "Epoch 160/200\n",
            "4/4 [==============================] - 0s 3ms/step - loss: 17.6660\n",
            "Epoch 161/200\n",
            "4/4 [==============================] - 0s 3ms/step - loss: 17.6671\n",
            "Epoch 162/200\n",
            "4/4 [==============================] - 0s 3ms/step - loss: 17.6585\n",
            "Epoch 163/200\n",
            "4/4 [==============================] - 0s 3ms/step - loss: 17.6635\n",
            "Epoch 164/200\n",
            "4/4 [==============================] - 0s 4ms/step - loss: 17.6534\n",
            "Epoch 165/200\n",
            "4/4 [==============================] - 0s 3ms/step - loss: 17.6518\n",
            "Epoch 166/200\n",
            "4/4 [==============================] - 0s 3ms/step - loss: 17.6711\n",
            "Epoch 167/200\n",
            "4/4 [==============================] - 0s 4ms/step - loss: 17.6529\n",
            "Epoch 168/200\n",
            "4/4 [==============================] - 0s 3ms/step - loss: 17.6514\n",
            "Epoch 169/200\n",
            "4/4 [==============================] - 0s 4ms/step - loss: 17.6498\n",
            "Epoch 170/200\n",
            "4/4 [==============================] - 0s 4ms/step - loss: 17.6495\n",
            "Epoch 171/200\n",
            "4/4 [==============================] - 0s 4ms/step - loss: 17.6623\n",
            "Epoch 172/200\n",
            "4/4 [==============================] - 0s 4ms/step - loss: 17.6467\n",
            "Epoch 173/200\n",
            "4/4 [==============================] - 0s 3ms/step - loss: 17.6458\n",
            "Epoch 174/200\n",
            "4/4 [==============================] - 0s 3ms/step - loss: 17.6448\n",
            "Epoch 175/200\n",
            "4/4 [==============================] - 0s 3ms/step - loss: 17.6452\n",
            "Epoch 176/200\n",
            "4/4 [==============================] - 0s 4ms/step - loss: 17.6460\n",
            "Epoch 177/200\n",
            "4/4 [==============================] - 0s 4ms/step - loss: 17.6494\n",
            "Epoch 178/200\n",
            "4/4 [==============================] - 0s 4ms/step - loss: 17.6426\n",
            "Epoch 179/200\n",
            "4/4 [==============================] - 0s 4ms/step - loss: 17.6389\n",
            "Epoch 180/200\n",
            "4/4 [==============================] - 0s 3ms/step - loss: 17.6490\n",
            "Epoch 181/200\n",
            "4/4 [==============================] - 0s 3ms/step - loss: 17.6446\n",
            "Epoch 182/200\n",
            "4/4 [==============================] - 0s 3ms/step - loss: 17.6455\n",
            "Epoch 183/200\n",
            "4/4 [==============================] - 0s 3ms/step - loss: 17.6384\n",
            "Epoch 184/200\n",
            "4/4 [==============================] - 0s 3ms/step - loss: 17.6393\n",
            "Epoch 185/200\n",
            "4/4 [==============================] - 0s 3ms/step - loss: 17.6388\n",
            "Epoch 186/200\n",
            "4/4 [==============================] - 0s 3ms/step - loss: 17.6377\n",
            "Epoch 187/200\n",
            "4/4 [==============================] - 0s 3ms/step - loss: 17.6401\n",
            "Epoch 188/200\n",
            "4/4 [==============================] - 0s 3ms/step - loss: 17.6350\n",
            "Epoch 189/200\n",
            "4/4 [==============================] - 0s 3ms/step - loss: 17.6346\n",
            "Epoch 190/200\n",
            "4/4 [==============================] - 0s 3ms/step - loss: 17.6514\n",
            "Epoch 191/200\n",
            "4/4 [==============================] - 0s 3ms/step - loss: 17.6299\n",
            "Epoch 192/200\n",
            "4/4 [==============================] - 0s 3ms/step - loss: 17.6315\n",
            "Epoch 193/200\n",
            "4/4 [==============================] - 0s 3ms/step - loss: 17.6298\n",
            "Epoch 194/200\n",
            "4/4 [==============================] - 0s 3ms/step - loss: 17.6304\n",
            "Epoch 195/200\n",
            "4/4 [==============================] - 0s 3ms/step - loss: 17.6328\n",
            "Epoch 196/200\n",
            "4/4 [==============================] - 0s 3ms/step - loss: 17.6274\n",
            "Epoch 197/200\n",
            "4/4 [==============================] - 0s 3ms/step - loss: 17.6279\n",
            "Epoch 198/200\n",
            "4/4 [==============================] - 0s 3ms/step - loss: 17.6251\n",
            "Epoch 199/200\n",
            "4/4 [==============================] - 0s 3ms/step - loss: 17.6287\n",
            "Epoch 200/200\n",
            "4/4 [==============================] - 0s 3ms/step - loss: 17.6251\n"
          ]
        },
        {
          "output_type": "execute_result",
          "data": {
            "text/plain": [
              "<keras.callbacks.History at 0x7f25b553fa90>"
            ]
          },
          "metadata": {},
          "execution_count": 8
        }
      ]
    },
    {
      "cell_type": "code",
      "metadata": {
        "id": "pDJM_h9AE_79",
        "colab": {
          "base_uri": "https://localhost:8080/",
          "height": 282
        },
        "outputId": "dacb25ed-9285-4902-e6f5-658263eb6723"
      },
      "source": [
        "loss=model.history.history['loss']\n",
        "epochs=range(len(loss))\n",
        "plt.plot(epochs,loss)"
      ],
      "execution_count": 9,
      "outputs": [
        {
          "output_type": "execute_result",
          "data": {
            "text/plain": [
              "[<matplotlib.lines.Line2D at 0x7f25b547f910>]"
            ]
          },
          "metadata": {},
          "execution_count": 9
        },
        {
          "output_type": "display_data",
          "data": {
            "image/png": "[encoded data removed]",
            "text/plain": [
              "<Figure size 432x288 with 1 Axes>"
            ]
          },
          "metadata": {
            "needs_background": "light"
          }
        }
      ]
    },
    {
      "cell_type": "markdown",
      "metadata": {
        "id": "sQQ-RL8k3bvN"
      },
      "source": [
        "## Prediciendo nuevos puntos con el modelo creado\n"
      ]
    },
    {
      "cell_type": "code",
      "metadata": {
        "id": "7mKcVdwr3bvO"
      },
      "source": [
        "x_for_predictions = np.linspace(0,50,1000)"
      ],
      "execution_count": 10,
      "outputs": []
    },
    {
      "cell_type": "code",
      "metadata": {
        "id": "zilII-3l3bvQ"
      },
      "source": [
        "y_predicted = model.predict(x_for_predictions)"
      ],
      "execution_count": 11,
      "outputs": []
    },
    {
      "cell_type": "code",
      "metadata": {
        "id": "CRmYwiW93bvS",
        "colab": {
          "base_uri": "https://localhost:8080/",
          "height": 265
        },
        "outputId": "70852deb-0ffb-4e0c-d700-83ac14553caa"
      },
      "source": [
        "# X e Y originales\n",
        "plt.plot(x,y,'*')\n",
        "# Línea de predicción\n",
        "plt.plot(x_for_predictions,y_predicted,'r');"
      ],
      "execution_count": 12,
      "outputs": [
        {
          "output_type": "display_data",
          "data": {
            "image/png": "[encoded data removed]",
            "text/plain": [
              "<Figure size 432x288 with 1 Axes>"
            ]
          },
          "metadata": {
            "needs_background": "light"
          }
        }
      ]
    },
    {
      "cell_type": "markdown",
      "metadata": {
        "id": "MbnrstBa3bvU"
      },
      "source": [
        "# Evaluando el error"
      ]
    },
    {
      "cell_type": "code",
      "metadata": {
        "id": "XxIMKNaX3bvV"
      },
      "source": [
        "from sklearn.metrics import mean_squared_error,mean_absolute_error"
      ],
      "execution_count": 13,
      "outputs": []
    },
    {
      "cell_type": "code",
      "metadata": {
        "id": "BqVLux-h3bvX"
      },
      "source": [
        "# Predicciones\n",
        "prediction_for_true_y = model.predict(x)"
      ],
      "execution_count": 14,
      "outputs": []
    },
    {
      "cell_type": "code",
      "metadata": {
        "id": "TqnV8_Ho3bva",
        "colab": {
          "base_uri": "https://localhost:8080/"
        },
        "outputId": "d2abd4d6-55fd-43d8-fdac-a072b5a9d3d4"
      },
      "source": [
        "mean_squared_error(y,prediction_for_true_y)"
      ],
      "execution_count": 15,
      "outputs": [
        {
          "output_type": "execute_result",
          "data": {
            "text/plain": [
              "17.62435659073928"
            ]
          },
          "metadata": {},
          "execution_count": 15
        }
      ]
    },
    {
      "cell_type": "code",
      "metadata": {
        "id": "7lAvngdpO9PE",
        "colab": {
          "base_uri": "https://localhost:8080/"
        },
        "outputId": "ce52040b-4c1a-412f-b96a-cd95e6491368"
      },
      "source": [
        "mean_absolute_error(y,prediction_for_true_y)"
      ],
      "execution_count": 16,
      "outputs": [
        {
          "output_type": "execute_result",
          "data": {
            "text/plain": [
              "3.4090803604587996"
            ]
          },
          "metadata": {},
          "execution_count": 16
        }
      ]
    }
  ]
}